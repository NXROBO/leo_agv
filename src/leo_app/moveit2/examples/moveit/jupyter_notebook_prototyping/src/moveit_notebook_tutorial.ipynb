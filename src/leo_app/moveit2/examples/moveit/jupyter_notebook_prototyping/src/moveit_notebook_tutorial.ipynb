{
 "cells": [
  {
   "cell_type": "markdown",
   "id": "4df8633e",
   "metadata": {},
   "source": [
    "# Introduction\n",
    "\n",
    "Welcome to this tutorial on using jupyter notebooks with MoveIt 2. A great benefit of being able to interact with MoveIt via a Python notebook is the ability to rapidly prototype code. We hope you find this interface intuitive and that you gain value from using MoveIt via Python notebooks.\n",
    "\n",
    "In this tutorial we will cover the following: \n",
    "\n",
    "* The required imports to run the notebook\n",
    "* A motion planning example\n",
    "* A teleoperation example\n",
    "\n",
    "If you have suggestions or feedback for this tutorial please post an issue on GitHub (https://github.com/ros-planning/moveit2_tutorials) and tag @peterdavidfagan."
   ]
  },
  {
   "cell_type": "markdown",
   "id": "91901c66",
   "metadata": {},
   "source": [
    "## Imports\n",
    "\n",
    "Note: to launch this notebook and the nodes it depends on you must first specify a launch file. Details are provided earlier in this tutorial."
   ]
  },
  {
   "cell_type": "code",
   "execution_count": 1,
   "id": "7bd810f5",
   "metadata": {},
   "outputs": [
    {
     "name": "stderr",
     "output_type": "stream",
     "text": [
      "WARNING:root:\u001b[33;21mCannot infer URDF from `/home/aubo/aubo_dev/install/aubo_description/share/aubo_description`. -- using config/aubo_C3.urdf\u001b[0m\n",
      "WARNING:root:\u001b[33;21mCannot infer SRDF from `/home/aubo/aubo_dev/install/aubo_description/share/aubo_description`. -- using config/aubo_C3.srdf\u001b[0m\n"
     ]
    }
   ],
   "source": [
    "import time\n",
    "\n",
    "# generic ros libraries\n",
    "import rclpy\n",
    "from rclpy.logging import get_logger\n",
    "\n",
    "# moveit python library\n",
    "from moveit.core.robot_state import RobotState\n",
    "from moveit.planning import (\n",
    "    MoveItPy,\n",
    "    MultiPipelinePlanRequestParameters,\n",
    ")\n",
    "\n",
    "from ament_index_python.packages import get_package_share_directory\n",
    "from moveit_configs_utils import MoveItConfigsBuilder\n",
    "\n",
    "def plan_and_execute(\n",
    "    robot,\n",
    "    planning_component,\n",
    "    logger,\n",
    "    single_plan_parameters=None,\n",
    "    multi_plan_parameters=None,\n",
    "    sleep_time=0.0,\n",
    "):\n",
    "    \"\"\"Helper function to plan and execute a motion.\"\"\"\n",
    "    # plan to goal\n",
    "    logger.info(\"Planning trajectory\")\n",
    "    if multi_plan_parameters is not None:\n",
    "        plan_result = planning_component.plan(\n",
    "            multi_plan_parameters=multi_plan_parameters\n",
    "        )\n",
    "    elif single_plan_parameters is not None:\n",
    "        plan_result = planning_component.plan(\n",
    "            single_plan_parameters=single_plan_parameters\n",
    "        )\n",
    "    else:\n",
    "        plan_result = planning_component.plan()\n",
    "\n",
    "    # execute the plan\n",
    "    if plan_result:\n",
    "        logger.info(\"Executing plan\")\n",
    "        robot_trajectory = plan_result.trajectory\n",
    "        robot.execute(robot_trajectory, controllers=[])\n",
    "    else:\n",
    "        logger.error(\"Planning failed\")\n",
    "\n",
    "    time.sleep(sleep_time)\n",
    "\n",
    "# we need to specify our moveit_py config at the top of each notebook we use. \n",
    "# this is since we will start spinning a moveit_py node within this notebook.\n",
    "\n",
    "moveit_config = (\n",
    "        MoveItConfigsBuilder(\n",
    "            robot_name=\"aubo_C3\", package_name=\"aubo_description\"\n",
    "        )\n",
    "        .robot_description_semantic(file_path=get_package_share_directory(\"aubo_description\") \n",
    "            + \"/srdf/aubo.srdf.xacro\")\n",
    "        .robot_description(file_path=get_package_share_directory(\"aubo_description\") \n",
    "            + \"/urdf/aubo.urdf.xacro\"\n",
    "            ,mappings={\n",
    "                    \"robot_ip\": \"127.0.0.1\",\n",
    "                    \"aubo_type\": \"aubo_C3\",\n",
    "                    \"use_fake_hardware\": \"true\",\n",
    "                    }\n",
    "            )\n",
    "        .planning_pipelines(\"ompl\", [\"ompl\",  \"pilz_industrial_motion_planner\"])\n",
    "        .moveit_cpp(\n",
    "            file_path=get_package_share_directory(\"jupyter_python_tutorial\")\n",
    "            + \"/config/jupyter_notebook_prototyping.yaml\"\n",
    "        )\n",
    "        .planning_scene_monitor(publish_robot_description=True,publish_robot_description_semantic=True)\n",
    "        .to_moveit_configs()\n",
    "    ).to_dict()"
   ]
  },
  {
   "cell_type": "markdown",
   "id": "d44015e2",
   "metadata": {},
   "source": [
    "## Setup"
   ]
  },
  {
   "cell_type": "code",
   "execution_count": 2,
   "id": "f9d767d3",
   "metadata": {
    "scrolled": true
   },
   "outputs": [
    {
     "name": "stderr",
     "output_type": "stream",
     "text": [
      "[INFO] [1712907096.923375629] [moveit_cpp_initializer]: Initialize rclcpp\n",
      "[INFO] [1712907096.924207411] [moveit_cpp_initializer]: Initialize node parameters\n",
      "[INFO] [1712907096.924225709] [moveit_cpp_initializer]: Initialize node and executor\n",
      "[INFO] [1712907096.989780896] [moveit_cpp_initializer]: Spin separate thread\n",
      "[INFO] [1712907097.031872860] [moveit_rdf_loader.rdf_loader]: Loaded robot model in 0.0419231 seconds\n",
      "[INFO] [1712907097.031946644] [moveit_robot_model.robot_model]: Loading robot model 'aubo'...\n",
      "[WARN] [1712907097.031967198] [moveit_robot_model.robot_model]: Skipping virtual joint 'virtual_joint' because its child frame 'aubo_base' does not match the URDF frame 'world'\n",
      "[INFO] [1712907097.031971650] [moveit_robot_model.robot_model]: No root/virtual joint specified in SRDF. Assuming fixed joint\n",
      "[INFO] [1712907097.059351379] [moveit_kinematics_base.kinematics_base]: Joint weights for group 'aubo_arm': 1 1 1 1 1 1\n",
      "[INFO] [1712907097.080542126] [moveit.ros_planning_interface.moveit_cpp]: Listening to '/joint_states' for joint states\n",
      "[INFO] [1712907097.082176038] [moveit_ros.current_state_monitor]: Listening to joint states on topic '/joint_states'\n",
      "[INFO] [1712907097.085895244] [moveit_ros.planning_scene_monitor.planning_scene_monitor]: Listening to '/planning_scene_monitor' for attached collision objects\n",
      "[INFO] [1712907097.086724043] [moveit_ros.planning_scene_monitor.planning_scene_monitor]: Publishing maintained planning scene on 'monitored_planning_scene'\n",
      "[INFO] [1712907097.086824375] [moveit_ros.planning_scene_monitor.planning_scene_monitor]: Starting planning scene monitor\n",
      "[INFO] [1712907097.087063022] [moveit_ros.planning_scene_monitor.planning_scene_monitor]: Listening to '/publish_planning_scene'\n",
      "[INFO] [1712907097.087070607] [moveit_ros.planning_scene_monitor.planning_scene_monitor]: Starting world geometry update monitor for collision objects, attached objects, octomap updates.\n",
      "[INFO] [1712907097.087246439] [moveit_ros.planning_scene_monitor.planning_scene_monitor]: Listening to 'collision_object'\n",
      "[INFO] [1712907097.087411239] [moveit_ros.planning_scene_monitor.planning_scene_monitor]: Listening to 'planning_scene_world' for planning scene world geometry\n",
      "[WARN] [1712907097.088111196] [moveit.ros.occupancy_map_monitor.middleware_handle]: Resolution not specified for Octomap. Assuming resolution = 0.1 instead\n",
      "[ERROR] [1712907097.088123897] [moveit.ros.occupancy_map_monitor.middleware_handle]: No 3D sensor plugin(s) defined for octomap updates\n",
      "[INFO] [1712907097.107654223] [moveit.ros_planning.planning_pipeline]: Using planning interface 'OMPL'\n",
      "[INFO] [1712907097.115159154] [moveit.ros_planning.planning_pipeline]: Using planning request adapter 'Add Time Optimal Parameterization'\n",
      "[INFO] [1712907097.115184939] [moveit.ros_planning.planning_pipeline]: Using planning request adapter 'Resolve constraint frames to robot links'\n",
      "[INFO] [1712907097.115188582] [moveit.ros_planning.planning_pipeline]: Using planning request adapter 'Fix Workspace Bounds'\n",
      "[INFO] [1712907097.115191720] [moveit.ros_planning.planning_pipeline]: Using planning request adapter 'Fix Start State Bounds'\n",
      "[INFO] [1712907097.115194315] [moveit.ros_planning.planning_pipeline]: Using planning request adapter 'Fix Start State In Collision'\n",
      "[INFO] [1712907097.115197263] [moveit.ros_planning.planning_pipeline]: Using planning request adapter 'Fix Start State Path Constraints'\n",
      "[INFO] [1712907097.128188942] [moveit.pilz_industrial_motion_planner.joint_limits_aggregator]: Reading limits from namespace robot_description_planning\n",
      "[INFO] [1712907097.132841349] [moveit.pilz_industrial_motion_planner]: Available plugins: pilz_industrial_motion_planner/PlanningContextLoaderCIRC pilz_industrial_motion_planner/PlanningContextLoaderLIN pilz_industrial_motion_planner/PlanningContextLoaderPTP \n",
      "[INFO] [1712907097.132950456] [moveit.pilz_industrial_motion_planner]: About to load: pilz_industrial_motion_planner/PlanningContextLoaderCIRC\n",
      "[INFO] [1712907097.136790732] [moveit.pilz_industrial_motion_planner]: Registered Algorithm [CIRC]\n",
      "[INFO] [1712907097.138351343] [moveit.pilz_industrial_motion_planner]: About to load: pilz_industrial_motion_planner/PlanningContextLoaderLIN\n",
      "[INFO] [1712907097.139379398] [moveit.pilz_industrial_motion_planner]: Registered Algorithm [LIN]\n",
      "[INFO] [1712907097.139395388] [moveit.pilz_industrial_motion_planner]: About to load: pilz_industrial_motion_planner/PlanningContextLoaderPTP\n",
      "[INFO] [1712907097.140048559] [moveit.pilz_industrial_motion_planner]: Registered Algorithm [PTP]\n",
      "[INFO] [1712907097.140059515] [moveit.ros_planning.planning_pipeline]: Using planning interface 'Pilz Industrial Motion Planner'\n",
      "[INFO] [1712907097.145025162] [moveit.ros_planning.planning_pipeline]: Using planning request adapter 'Fix Workspace Bounds'\n",
      "[INFO] [1712907097.145046806] [moveit.ros_planning.planning_pipeline]: Using planning request adapter 'Fix Start State Bounds'\n",
      "[INFO] [1712907097.145050042] [moveit.ros_planning.planning_pipeline]: Using planning request adapter 'Fix Start State In Collision'\n",
      "[INFO] [1712907097.145052920] [moveit.ros_planning.planning_pipeline]: Using planning request adapter 'Fix Start State Path Constraints'\n",
      "[INFO] [1712907097.173426495] [moveit.plugins.moveit_simple_controller_manager]: Added FollowJointTrajectory controller for joint_trajectory_controller\n",
      "[INFO] [1712907097.173551298] [moveit.plugins.moveit_simple_controller_manager]: Returned 1 controllers in list\n",
      "[INFO] [1712907097.173567792] [moveit.plugins.moveit_simple_controller_manager]: Returned 1 controllers in list\n",
      "[INFO] [1712907097.173831976] [moveit_ros.trajectory_execution_manager]: Trajectory execution is managing controllers\n",
      "[INFO] [1712907097.222127978] [moveit_py.pose_goal]: MoveItPy instance created\n"
     ]
    },
    {
     "data": {
      "text/plain": [
       "True"
      ]
     },
     "execution_count": 2,
     "metadata": {},
     "output_type": "execute_result"
    }
   ],
   "source": [
    "# initialise rclpy (only for logging purposes)\n",
    "rclpy.init()\n",
    "logger = get_logger(\"moveit_py.pose_goal\")\n",
    "\n",
    "# instantiate moveit_py instance and a planning component for the aubo_arm\n",
    "aubo = MoveItPy(node_name=\"moveit_py\", config_dict=moveit_config)\n",
    "aubo_arm = aubo.get_planning_component(\"aubo_arm\")\n",
    "logger.info(\"MoveItPy instance created\")"
   ]
  },
  {
   "cell_type": "markdown",
   "id": "2f72a61e",
   "metadata": {},
   "source": [
    "## Motion Planning Example"
   ]
  },
  {
   "cell_type": "code",
   "execution_count": 3,
   "id": "47a8d091",
   "metadata": {},
   "outputs": [
    {
     "name": "stderr",
     "output_type": "stream",
     "text": [
      "[INFO] [1712907114.172732026] [moveit_py.pose_goal]: Planning trajectory\n",
      "[WARN] [1712907114.172801174] [moveit_py]: Parameter 'plan_request_params.planner_id' not found in config use default value instead, check parameter type and namespace in YAML file\n",
      "[WARN] [1712907114.172867248] [moveit_py]: Parameter 'plan_request_params.planning_time' not found in config use default value instead, check parameter type and namespace in YAML file\n",
      "[INFO] [1712907114.188957387] [moveit.ompl_planning.model_based_planning_context]: Planner configuration 'aubo_arm' will use planner 'geometric::RRTConnect'. Additional configuration parameters will be set when the planner is constructed.\n",
      "[WARN] [1712907114.216207449] [moveit.ros_planning.planning_pipeline]: The planner plugin did not fill out the 'planner_id' field of the MotionPlanResponse. Setting it to the planner ID name of the MotionPlanRequest assuming that the planner plugin does warn you if it does not use the requested planner.\n",
      "[INFO] [1712907114.222869998] [moveit_py.pose_goal]: Executing plan\n",
      "[INFO] [1712907114.223450151] [moveit.plugins.moveit_simple_controller_manager]: Returned 1 controllers in list\n",
      "[INFO] [1712907114.223474714] [moveit.plugins.moveit_simple_controller_manager]: Returned 1 controllers in list\n",
      "[INFO] [1712907114.223500674] [moveit.plugins.moveit_simple_controller_manager]: Returned 1 controllers in list\n",
      "[INFO] [1712907114.223504404] [moveit.plugins.moveit_simple_controller_manager]: Returned 1 controllers in list\n",
      "[INFO] [1712907114.223518414] [moveit_ros.trajectory_execution_manager]: Validating trajectory with allowed_start_tolerance 0.05\n",
      "[INFO] [1712907114.226255012] [moveit_ros.trajectory_execution_manager]: Starting trajectory execution ...\n",
      "[INFO] [1712907114.226402239] [moveit.plugins.moveit_simple_controller_manager]: Returned 1 controllers in list\n",
      "[INFO] [1712907114.226425853] [moveit.plugins.moveit_simple_controller_manager]: Returned 1 controllers in list\n",
      "[INFO] [1712907114.226685591] [moveit.simple_controller_manager.follow_joint_trajectory_controller_handle]: sending trajectory to joint_trajectory_controller\n",
      "[INFO] [1712907114.227512373] [moveit.simple_controller_manager.follow_joint_trajectory_controller_handle]: joint_trajectory_controller started execution\n",
      "[INFO] [1712907114.227528041] [moveit.simple_controller_manager.follow_joint_trajectory_controller_handle]: Goal request accepted!\n",
      "[INFO] [1712907116.028646914] [moveit.simple_controller_manager.follow_joint_trajectory_controller_handle]: Controller 'joint_trajectory_controller' successfully finished\n",
      "[INFO] [1712907116.042489739] [moveit_ros.trajectory_execution_manager]: Completed trajectory execution with status SUCCEEDED ...\n"
     ]
    }
   ],
   "source": [
    "###########################################################################\n",
    "# Plan 1 - set states with predefined string\n",
    "###########################################################################\n",
    "\n",
    "# set plan start state to current state\n",
    "aubo_arm.set_start_state_to_current_state()\n",
    "\n",
    "# set pose goal using predefined state\n",
    "aubo_arm.set_goal_state(configuration_name=\"ready\")\n",
    "\n",
    "# plan to goal\n",
    "plan_and_execute(aubo, aubo_arm, logger, sleep_time=3.0)"
   ]
  },
  {
   "cell_type": "code",
   "execution_count": 4,
   "id": "74c84771",
   "metadata": {},
   "outputs": [
    {
     "name": "stderr",
     "output_type": "stream",
     "text": [
      "[INFO] [1712907156.356900987] [moveit_py.pose_goal]: Set goal state to the initialized robot state\n",
      "[INFO] [1712907156.371771018] [moveit_py.pose_goal]: Planning trajectory\n",
      "[WARN] [1712907156.371830389] [moveit_py]: Parameter 'plan_request_params.planner_id' not found in config use default value instead, check parameter type and namespace in YAML file\n",
      "[WARN] [1712907156.371887004] [moveit_py]: Parameter 'plan_request_params.planning_time' not found in config use default value instead, check parameter type and namespace in YAML file\n",
      "[INFO] [1712907156.372441501] [moveit.ompl_planning.model_based_planning_context]: Planner configuration 'aubo_arm' will use planner 'geometric::RRTConnect'. Additional configuration parameters will be set when the planner is constructed.\n",
      "[INFO] [1712907156.388080011] [moveit_kinematic_constraints.kinematic_constraints]: Constraint satisfied:: Joint name: 'shoulder_joint', actual value: -5.384287, desired value: -5.384287, tolerance_above: 0.000000, tolerance_below: 0.000000\n",
      "[INFO] [1712907156.388191400] [moveit_kinematic_constraints.kinematic_constraints]: Constraint satisfied:: Joint name: 'upperArm_joint', actual value: -1.381171, desired value: -1.381171, tolerance_above: 0.000000, tolerance_below: 0.000000\n",
      "[INFO] [1712907156.388195239] [moveit_kinematic_constraints.kinematic_constraints]: Constraint satisfied:: Joint name: 'foreArm_joint', actual value: 0.575375, desired value: 0.575375, tolerance_above: 0.000000, tolerance_below: 0.000000\n",
      "[INFO] [1712907156.388198037] [moveit_kinematic_constraints.kinematic_constraints]: Constraint satisfied:: Joint name: 'wrist1_joint', actual value: 3.390598, desired value: 3.390598, tolerance_above: 0.000000, tolerance_below: 0.000000\n",
      "[INFO] [1712907156.388200767] [moveit_kinematic_constraints.kinematic_constraints]: Constraint satisfied:: Joint name: 'wrist2_joint', actual value: -3.956684, desired value: -3.956684, tolerance_above: 0.000000, tolerance_below: 0.000000\n",
      "[INFO] [1712907156.388203283] [moveit_kinematic_constraints.kinematic_constraints]: Constraint satisfied:: Joint name: 'wrist3_joint', actual value: -3.730545, desired value: -3.730545, tolerance_above: 0.000000, tolerance_below: 0.000000\n",
      "[INFO] [1712907156.388272005] [moveit_collision_detection_fcl.collision_common]: Found a contact between 'wrist3_Link' (type 'Robot link') and 'foreArm_Link' (type 'Robot link'), which constitutes a collision. Contact information is not stored.\n",
      "[INFO] [1712907156.388287412] [moveit_collision_detection_fcl.collision_common]: Collision checking is considered complete (collision was found and 0 contacts are stored)\n",
      "[ERROR] [1712907156.403656492] [ompl]: ./src/ompl/geometric/planners/rrt/src/RRTConnect.cpp:252 - aubo_arm/aubo_arm: Unable to sample any valid states for goal tree\n",
      "[WARN] [1712907156.403703062] [moveit.ompl_planning.model_based_planning_context]: Timed out: 0.0s ≥ 1.0s\n",
      "[INFO] [1712907156.403710471] [moveit.ompl_planning.model_based_planning_context]: Unable to solve the planning problem\n",
      "[WARN] [1712907156.403745393] [moveit.ros_planning.planning_pipeline]: The planner plugin did not fill out the 'planner_id' field of the MotionPlanResponse. Setting it to the planner ID name of the MotionPlanRequest assuming that the planner plugin does warn you if it does not use the requested planner.\n",
      "[ERROR] [1712907156.421203801] [moveit_py.pose_goal]: Planning failed\n"
     ]
    }
   ],
   "source": [
    " ###########################################################################\n",
    "# Plan 2 - set goal state with RobotState object\n",
    "###########################################################################\n",
    "\n",
    "# instantiate a RobotState instance using the current robot model\n",
    "robot_model = aubo.get_robot_model()\n",
    "robot_state = RobotState(robot_model)\n",
    "\n",
    "# randomize the robot state\n",
    "robot_state.set_to_random_positions()\n",
    "\n",
    "# set plan start state to current state\n",
    "aubo_arm.set_start_state_to_current_state()\n",
    "\n",
    "# set goal state to the initialized robot state\n",
    "logger.info(\"Set goal state to the initialized robot state\")\n",
    "aubo_arm.set_goal_state(robot_state=robot_state)\n",
    "\n",
    "# plan to goal\n",
    "plan_and_execute(aubo, aubo_arm, logger, sleep_time=3.0)"
   ]
  },
  {
   "cell_type": "code",
   "execution_count": 5,
   "id": "34afad73",
   "metadata": {},
   "outputs": [
    {
     "name": "stderr",
     "output_type": "stream",
     "text": [
      "[INFO] [1712907311.226652507] [moveit_py.pose_goal]: Planning trajectory\n",
      "[WARN] [1712907311.226799397] [moveit_py]: Parameter 'plan_request_params.planner_id' not found in config use default value instead, check parameter type and namespace in YAML file\n",
      "[WARN] [1712907311.226947073] [moveit_py]: Parameter 'plan_request_params.planning_time' not found in config use default value instead, check parameter type and namespace in YAML file\n",
      "[WARN] [1712907311.227531217] [moveit_kinematic_constraints.kinematic_constraints]: Orientation constraint for link 'wrist3_Link' is probably incorrect: -0.380000, 0.000000, 0.653000, 0.653000. Assuming identity instead.\n",
      "[WARN] [1712907311.227578581] [moveit_kinematic_constraints.kinematic_constraints]: Orientation constraint for link 'wrist3_Link' is probably incorrect: -0.380000, 0.000000, 0.653000, 0.653000. Assuming identity instead.\n",
      "[INFO] [1712907311.227789272] [moveit.ompl_planning.model_based_planning_context]: Planner configuration 'aubo_arm' will use planner 'geometric::RRTConnect'. Additional configuration parameters will be set when the planner is constructed.\n",
      "[WARN] [1712907311.240254563] [moveit.ros_planning.planning_pipeline]: The planner plugin did not fill out the 'planner_id' field of the MotionPlanResponse. Setting it to the planner ID name of the MotionPlanRequest assuming that the planner plugin does warn you if it does not use the requested planner.\n",
      "[INFO] [1712907311.247631149] [moveit_py.pose_goal]: Executing plan\n",
      "[INFO] [1712907311.247726846] [moveit.plugins.moveit_simple_controller_manager]: Returned 1 controllers in list\n",
      "[INFO] [1712907311.247737146] [moveit.plugins.moveit_simple_controller_manager]: Returned 1 controllers in list\n",
      "[INFO] [1712907311.247754981] [moveit.plugins.moveit_simple_controller_manager]: Returned 1 controllers in list\n",
      "[INFO] [1712907311.247759540] [moveit.plugins.moveit_simple_controller_manager]: Returned 1 controllers in list\n",
      "[INFO] [1712907311.247772224] [moveit_ros.trajectory_execution_manager]: Validating trajectory with allowed_start_tolerance 0.05\n",
      "[INFO] [1712907311.249426793] [moveit_ros.trajectory_execution_manager]: Starting trajectory execution ...\n",
      "[INFO] [1712907311.249457555] [moveit.plugins.moveit_simple_controller_manager]: Returned 1 controllers in list\n",
      "[INFO] [1712907311.249471898] [moveit.plugins.moveit_simple_controller_manager]: Returned 1 controllers in list\n",
      "[INFO] [1712907311.249594733] [moveit.simple_controller_manager.follow_joint_trajectory_controller_handle]: sending trajectory to joint_trajectory_controller\n",
      "[INFO] [1712907311.251763070] [moveit.simple_controller_manager.follow_joint_trajectory_controller_handle]: joint_trajectory_controller started execution\n",
      "[INFO] [1712907311.251788343] [moveit.simple_controller_manager.follow_joint_trajectory_controller_handle]: Goal request accepted!\n",
      "[INFO] [1712907311.805446893] [moveit.simple_controller_manager.follow_joint_trajectory_controller_handle]: Controller 'joint_trajectory_controller' successfully finished\n",
      "[INFO] [1712907311.818111562] [moveit_ros.trajectory_execution_manager]: Completed trajectory execution with status SUCCEEDED ...\n"
     ]
    }
   ],
   "source": [
    "###########################################################################\n",
    "# Plan 3 - set goal state with PoseStamped message\n",
    "###########################################################################\n",
    "aubo_arm.set_start_state_to_current_state()\n",
    "\n",
    "from geometry_msgs.msg import PoseStamped,Quaternion\n",
    "\n",
    "pose_goal = PoseStamped()\n",
    "quat = Quaternion(x=-0.38,y=0.0,z=0.653,w=0.653)\n",
    "pose_goal.header.frame_id = \"aubo_base\"\n",
    "pose_goal.pose.orientation = quat\n",
    "pose_goal.pose.position.x = -0.2\n",
    "pose_goal.pose.position.y = 0.2\n",
    "pose_goal.pose.position.z = 0.3\n",
    "aubo_arm.set_goal_state(pose_stamped_msg = pose_goal, pose_link = \"wrist3_Link\")\n",
    "\n",
    "# plan to goal\n",
    "plan_and_execute(aubo, aubo_arm, logger, sleep_time=3.0)"
   ]
  },
  {
   "cell_type": "code",
   "execution_count": 6,
   "id": "065c82e3",
   "metadata": {},
   "outputs": [
    {
     "name": "stderr",
     "output_type": "stream",
     "text": [
      "[INFO] [1712907501.479072757] [moveit_py.pose_goal]: Planning trajectory\n",
      "[WARN] [1712907501.479130743] [moveit_py]: Parameter 'plan_request_params.planner_id' not found in config use default value instead, check parameter type and namespace in YAML file\n",
      "[WARN] [1712907501.479162426] [moveit_py]: Parameter 'plan_request_params.planning_time' not found in config use default value instead, check parameter type and namespace in YAML file\n",
      "[INFO] [1712907501.479581581] [moveit.ompl_planning.model_based_planning_context]: Planner configuration 'aubo_arm' will use planner 'geometric::RRTConnect'. Additional configuration parameters will be set when the planner is constructed.\n",
      "[WARN] [1712907501.493866965] [moveit.ros_planning.planning_pipeline]: The planner plugin did not fill out the 'planner_id' field of the MotionPlanResponse. Setting it to the planner ID name of the MotionPlanRequest assuming that the planner plugin does warn you if it does not use the requested planner.\n",
      "[INFO] [1712907501.506622987] [moveit_py.pose_goal]: Executing plan\n",
      "[INFO] [1712907501.506731017] [moveit.plugins.moveit_simple_controller_manager]: Returned 1 controllers in list\n",
      "[INFO] [1712907501.506742372] [moveit.plugins.moveit_simple_controller_manager]: Returned 1 controllers in list\n",
      "[INFO] [1712907501.506768703] [moveit.plugins.moveit_simple_controller_manager]: Returned 1 controllers in list\n",
      "[INFO] [1712907501.506808838] [moveit.plugins.moveit_simple_controller_manager]: Returned 1 controllers in list\n",
      "[INFO] [1712907501.506825946] [moveit_ros.trajectory_execution_manager]: Validating trajectory with allowed_start_tolerance 0.05\n",
      "[INFO] [1712907501.509952234] [moveit_ros.trajectory_execution_manager]: Starting trajectory execution ...\n",
      "[INFO] [1712907501.510067848] [moveit.plugins.moveit_simple_controller_manager]: Returned 1 controllers in list\n",
      "[INFO] [1712907501.510096110] [moveit.plugins.moveit_simple_controller_manager]: Returned 1 controllers in list\n",
      "[INFO] [1712907501.510277640] [moveit.simple_controller_manager.follow_joint_trajectory_controller_handle]: sending trajectory to joint_trajectory_controller\n",
      "[INFO] [1712907501.511697579] [moveit.simple_controller_manager.follow_joint_trajectory_controller_handle]: joint_trajectory_controller started execution\n",
      "[INFO] [1712907501.511712867] [moveit.simple_controller_manager.follow_joint_trajectory_controller_handle]: Goal request accepted!\n",
      "[INFO] [1712907503.362493679] [moveit.simple_controller_manager.follow_joint_trajectory_controller_handle]: Controller 'joint_trajectory_controller' successfully finished\n",
      "[INFO] [1712907503.374777092] [moveit_ros.trajectory_execution_manager]: Completed trajectory execution with status SUCCEEDED ...\n"
     ]
    }
   ],
   "source": [
    "###########################################################################\n",
    "# Plan 4 - set goal state with constraints\n",
    "###########################################################################\n",
    "\n",
    "# set plan start state to current state\n",
    "aubo_arm.set_start_state_to_current_state()\n",
    "\n",
    "# set constraints message\n",
    "from moveit.core.kinematic_constraints import construct_joint_constraint\n",
    "\n",
    "joint_values = {\n",
    "    \"shoulder_joint\": 0.0,\n",
    "    \"upperArm_joint\": -0.26,\n",
    "    \"foreArm_joint\": 1.74,\n",
    "    \"wrist1_joint\": 0.43,\n",
    "    \"wrist2_joint\": 1.57,\n",
    "    \"wrist3_joint\": 0.0,\n",
    "}\n",
    "robot_state.joint_positions = joint_values\n",
    "joint_constraint = construct_joint_constraint(\n",
    "    robot_state=robot_state,\n",
    "    joint_model_group=aubo.get_robot_model().get_joint_model_group(\"aubo_arm\"),\n",
    ")\n",
    "aubo_arm.set_goal_state(motion_plan_constraints=[joint_constraint])\n",
    "\n",
    "# plan to goal\n",
    "plan_and_execute(aubo, aubo_arm, logger, sleep_time=3.0)\n"
   ]
  },
  {
   "cell_type": "code",
   "execution_count": 7,
   "id": "73b20e50",
   "metadata": {},
   "outputs": [
    {
     "name": "stderr",
     "output_type": "stream",
     "text": [
      "[INFO] [1712907616.723271035] [moveit_py.pose_goal]: Planning trajectory\n",
      "[INFO] [1712907616.742200003] [moveit.pilz_industrial_motion_planner.trajectory_generator_ptp]: Initialized Point-to-Point Trajectory Generator.\n",
      "[INFO] [1712907616.742263982] [moveit.ompl_planning.model_based_planning_context]: Planner configuration 'aubo_arm[RRTConnectkConfigDefault]' will use planner 'geometric::RRTConnect'. Additional configuration parameters will be set when the planner is constructed.\n",
      "[INFO] [1712907616.743125417] [moveit.pilz_industrial_motion_planner.trajectory_generator]: Generating PTP trajectory...\n",
      "[WARN] [1712907616.755216995] [moveit.ros_planning.planning_pipeline]: The planner plugin did not fill out the 'planner_id' field of the MotionPlanResponse. Setting it to the planner ID name of the MotionPlanRequest assuming that the planner plugin does warn you if it does not use the requested planner.\n",
      "[INFO] [1712907616.774973620] [moveit_py.pose_goal]: Executing plan\n",
      "[INFO] [1712907616.775051305] [moveit.plugins.moveit_simple_controller_manager]: Returned 1 controllers in list\n",
      "[INFO] [1712907616.775061792] [moveit.plugins.moveit_simple_controller_manager]: Returned 1 controllers in list\n",
      "[INFO] [1712907616.775097400] [moveit.plugins.moveit_simple_controller_manager]: Returned 1 controllers in list\n",
      "[INFO] [1712907616.775104661] [moveit.plugins.moveit_simple_controller_manager]: Returned 1 controllers in list\n",
      "[INFO] [1712907616.775123231] [moveit_ros.trajectory_execution_manager]: Validating trajectory with allowed_start_tolerance 0.05\n",
      "[INFO] [1712907616.778277919] [moveit_ros.trajectory_execution_manager]: Starting trajectory execution ...\n",
      "[INFO] [1712907616.778413262] [moveit.plugins.moveit_simple_controller_manager]: Returned 1 controllers in list\n",
      "[INFO] [1712907616.778430454] [moveit.plugins.moveit_simple_controller_manager]: Returned 1 controllers in list\n",
      "[INFO] [1712907616.778684849] [moveit.simple_controller_manager.follow_joint_trajectory_controller_handle]: sending trajectory to joint_trajectory_controller\n",
      "[INFO] [1712907616.782823033] [moveit.simple_controller_manager.follow_joint_trajectory_controller_handle]: joint_trajectory_controller started execution\n",
      "[INFO] [1712907616.782880096] [moveit.simple_controller_manager.follow_joint_trajectory_controller_handle]: Goal request accepted!\n",
      "[INFO] [1712907618.582924198] [moveit.simple_controller_manager.follow_joint_trajectory_controller_handle]: Controller 'joint_trajectory_controller' successfully finished\n",
      "[INFO] [1712907618.595065586] [moveit_ros.trajectory_execution_manager]: Completed trajectory execution with status SUCCEEDED ...\n"
     ]
    }
   ],
   "source": [
    "###########################################################################\n",
    "# Plan 5 - Planning with Multiple Pipelines simultaneously\n",
    "###########################################################################\n",
    "\n",
    "# set plan start state to current state\n",
    "aubo_arm.set_start_state_to_current_state()\n",
    "\n",
    "# set pose goal with PoseStamped message\n",
    "aubo_arm.set_goal_state(configuration_name=\"ready\")\n",
    "\n",
    "# initialise multi-pipeline plan request parameters\n",
    "\n",
    "multi_pipeline_plan_request_params = MultiPipelinePlanRequestParameters(\n",
    "    aubo, [\"ompl_rrtc\", \"pilz_lin\"]\n",
    ")\n",
    "\n",
    "# plan to goal\n",
    "plan_and_execute(\n",
    "    aubo,\n",
    "    aubo_arm,\n",
    "    logger,\n",
    "    multi_plan_parameters=multi_pipeline_plan_request_params,\n",
    "    sleep_time=3.0,\n",
    ")"
   ]
  }
 ],
 "metadata": {
  "kernelspec": {
   "display_name": "Python 3 (ipykernel)",
   "language": "python",
   "name": "python3"
  },
  "language_info": {
   "codemirror_mode": {
    "name": "ipython",
    "version": 3
   },
   "file_extension": ".py",
   "mimetype": "text/x-python",
   "name": "python",
   "nbconvert_exporter": "python",
   "pygments_lexer": "ipython3",
   "version": "3.10.12"
  }
 },
 "nbformat": 4,
 "nbformat_minor": 5
}
